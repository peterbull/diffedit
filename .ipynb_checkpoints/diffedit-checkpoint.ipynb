{
 "cells": [
  {
   "cell_type": "markdown",
   "id": "e59082ab-83f8-466a-b051-855abc3f7c20",
   "metadata": {},
   "source": [
    "## Reimplementing DiffEdit"
   ]
  },
  {
   "cell_type": "markdown",
   "id": "13fca58c-3566-4e1d-b893-a6b589b01453",
   "metadata": {},
   "source": [
    "In this notebook we're going to reimplement the semantic image editing process illustrated in the [DiffEdit](https://arxiv.org/abs/2210.11427) paper. In the paper, the authors proposed using text input to create a mask of the queried object, and essentially using an img2img type of processing, such that changes could be made to the object without making changes to the context of the image. "
   ]
  },
  {
   "cell_type": "markdown",
   "id": "c05b16e0-7bf2-4884-8e24-2a7c9119ddef",
   "metadata": {},
   "source": [
    "## Example"
   ]
  },
  {
   "cell_type": "markdown",
   "id": "27b316db-a812-4d49-821f-07350c6445b5",
   "metadata": {},
   "source": [
    "![DiffEdit Workflow](imgs/diffusion_method2.jpg)"
   ]
  },
  {
   "cell_type": "code",
   "execution_count": null,
   "id": "bbeebe55-bed1-421b-9212-af89b2cb8e1c",
   "metadata": {},
   "outputs": [],
   "source": []
  }
 ],
 "metadata": {
  "kernelspec": {
   "display_name": "Python 3 (ipykernel)",
   "language": "python",
   "name": "python3"
  },
  "language_info": {
   "codemirror_mode": {
    "name": "ipython",
    "version": 3
   },
   "file_extension": ".py",
   "mimetype": "text/x-python",
   "name": "python",
   "nbconvert_exporter": "python",
   "pygments_lexer": "ipython3",
   "version": "3.10.10"
  }
 },
 "nbformat": 4,
 "nbformat_minor": 5
}
